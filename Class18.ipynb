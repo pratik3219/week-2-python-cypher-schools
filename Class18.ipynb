{
  "nbformat": 4,
  "nbformat_minor": 0,
  "metadata": {
    "colab": {
      "provenance": []
    },
    "kernelspec": {
      "name": "python3",
      "display_name": "Python 3"
    },
    "language_info": {
      "name": "python"
    }
  },
  "cells": [
    {
      "cell_type": "code",
      "source": [
        "\n",
        "\n",
        "# Dunders(magic methods)(event methods)\n",
        "#____\n",
        "class Person:\n",
        "  def __init__(self,name):\n",
        "    self.name=name\n",
        "  def say_hi(self):\n",
        "      print('hello, my name is',self.name)\n",
        "P=Person('QWERTY')\n",
        "P.say_hi()\n",
        "\n",
        "\n",
        "     \n",
        "hello, my name is QWERTY\n",
        "\n",
        "class A:\n",
        "  def __init__(self):\n",
        "    print(self)\n",
        "    print(\"initialized\")\n",
        "  def __del__(self):\n",
        "    print(self)\n",
        "    print(\"I am dying\")\n",
        "a=A()\n",
        "\n",
        "\n",
        "     \n",
        "<__main__.A object at 0x7f26e3e873a0>\n",
        "initialized\n",
        "\n",
        "a=1\n",
        "print(type(a))\n",
        "a+5\n",
        "a.__add__(5)\n",
        "\n",
        "\n",
        "     \n",
        "\n",
        "6\n",
        "\n",
        "\"QWERT\"*2\n",
        "\n",
        "\n",
        "     \n",
        "'QWERTQWERT'\n",
        "\n",
        "\"QWERTYUI\".__mul__(2)\n",
        "\n",
        "\n",
        "     \n",
        "'QWERTYUIQWERTYUI'\n",
        "\n",
        "class A:\n",
        "  a=1\n",
        "  b=2\n",
        "\n",
        "  def __add__(self,x):\n",
        "    return self.a+self.b+x\n",
        "a=A()\n",
        "a+3\n",
        "\n",
        "\n",
        "     \n",
        "6"
      ],
      "metadata": {
        "id": "eVGd6A--4LKr"
      },
      "execution_count": null,
      "outputs": []
    }
  ]
}